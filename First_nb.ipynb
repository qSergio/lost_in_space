{
 "cells": [
  {
   "cell_type": "code",
   "execution_count": 1,
   "id": "1cc21a4a-2e1b-42fb-80ff-a09cab1b062a",
   "metadata": {},
   "outputs": [],
   "source": [
    "import pandas as pd\n",
    "import numpy as np"
   ]
  },
  {
   "cell_type": "code",
   "execution_count": 2,
   "id": "ac9b3388-cdf8-446a-848f-1da1a152164b",
   "metadata": {},
   "outputs": [
    {
     "name": "stdout",
     "output_type": "stream",
     "text": [
      "PassengerId,HomePlanet,CryoSleep,Cabin,Destination,Age,VIP,RoomService,FoodCourt,ShoppingMall,Spa,VRDeck,Name,Transported\n",
      "0001_01,Europa,False,B/0/P,TRAPPIST-1e,39.0,False,0.0,0.0,0.0,0.0,0.0,Maham Ofracculy,False\n",
      "0002_01,Earth,False,F/0/S,TRAPPIST-1e,24.0,False,109.0,9.0,25.0,549.0,44.0,Juanna Vines,True\n",
      "0003_01,Europa,False,A/0/S,TRAPPIST-1e,58.0,True,43.0,3576.0,0.0,6715.0,49.0,Altark Susent,False\n",
      "0003_02,Europa,False,A/0/S,TRAPPIST-1e,33.0,False,0.0,1283.0,371.0,3329.0,193.0,Solam Susent,False\n",
      "0004_01,Earth,False,F/1/S,TRAPPIST-1e,16.0,False,303.0,70.0,151.0,565.0,2.0,Willy Santantines,True\n",
      "0005_01,Earth,False,F/0/P,PSO J318.5-22,44.0,False,0.0,483.0,0.0,291.0,0.0,Sandie Hinetthews,True\n",
      "0006_01,Earth,False,F/2/S,TRAPPIST-1e,26.0,False,42.0,1539.0,3.0,0.0,0.0,Billex Jacostaffey,True\n",
      "0006_02,Earth,True,G/0/S,TRAPPIST-1e,28.0,False,0.0,0.0,0.0,0.0,,Candra Jacostaffey,True\n",
      "0007_01,Earth,False,F/3/S,TRAPPIST-1e,35.0,False,0.0,785.0,17.0,216.0,0.0,Andona Beston,True\n",
      "cat: stdout: Broken pipe\n"
     ]
    }
   ],
   "source": [
    "!cat train.csv | head"
   ]
  },
  {
   "cell_type": "code",
   "execution_count": 3,
   "id": "f6b3261d-4057-4dca-bcf8-816ebf3a58b1",
   "metadata": {},
   "outputs": [],
   "source": [
    "df = pd.read_csv('train.csv')"
   ]
  },
  {
   "cell_type": "code",
   "execution_count": 4,
   "id": "0a33f838-acdf-4286-8f67-831903dbef7c",
   "metadata": {},
   "outputs": [
    {
     "data": {
      "text/plain": [
       "(8693, 14)"
      ]
     },
     "execution_count": 4,
     "metadata": {},
     "output_type": "execute_result"
    }
   ],
   "source": [
    "df.shape"
   ]
  },
  {
   "cell_type": "code",
   "execution_count": 5,
   "id": "1b4326d0-556c-4157-8608-f8cbf48b5d95",
   "metadata": {},
   "outputs": [
    {
     "name": "stdout",
     "output_type": "stream",
     "text": [
      "<class 'pandas.core.frame.DataFrame'>\n",
      "RangeIndex: 8693 entries, 0 to 8692\n",
      "Data columns (total 14 columns):\n",
      " #   Column        Non-Null Count  Dtype  \n",
      "---  ------        --------------  -----  \n",
      " 0   PassengerId   8693 non-null   object \n",
      " 1   HomePlanet    8492 non-null   object \n",
      " 2   CryoSleep     8476 non-null   object \n",
      " 3   Cabin         8494 non-null   object \n",
      " 4   Destination   8511 non-null   object \n",
      " 5   Age           8514 non-null   float64\n",
      " 6   VIP           8490 non-null   object \n",
      " 7   RoomService   8512 non-null   float64\n",
      " 8   FoodCourt     8510 non-null   float64\n",
      " 9   ShoppingMall  8485 non-null   float64\n",
      " 10  Spa           8510 non-null   float64\n",
      " 11  VRDeck        8505 non-null   float64\n",
      " 12  Name          8493 non-null   object \n",
      " 13  Transported   8693 non-null   bool   \n",
      "dtypes: bool(1), float64(6), object(7)\n",
      "memory usage: 891.5+ KB\n"
     ]
    }
   ],
   "source": [
    "df.info()"
   ]
  },
  {
   "cell_type": "code",
   "execution_count": 6,
   "id": "3b46b50c-3c9f-4847-aae5-5c069dc934eb",
   "metadata": {},
   "outputs": [
    {
     "data": {
      "text/plain": [
       "True"
      ]
     },
     "execution_count": 6,
     "metadata": {},
     "output_type": "execute_result"
    }
   ],
   "source": [
    "df['PassengerId'].nunique() == df.shape[0]"
   ]
  },
  {
   "cell_type": "code",
   "execution_count": 7,
   "id": "3b45e2da-910c-4fcf-83a0-8213d7a33369",
   "metadata": {},
   "outputs": [],
   "source": [
    "df.set_index('PassengerId', inplace=True)"
   ]
  },
  {
   "cell_type": "code",
   "execution_count": 8,
   "id": "fb9d0f84-7605-4f70-8f67-ec109e1f84aa",
   "metadata": {},
   "outputs": [
    {
     "data": {
      "text/html": [
       "<div>\n",
       "<style scoped>\n",
       "    .dataframe tbody tr th:only-of-type {\n",
       "        vertical-align: middle;\n",
       "    }\n",
       "\n",
       "    .dataframe tbody tr th {\n",
       "        vertical-align: top;\n",
       "    }\n",
       "\n",
       "    .dataframe thead th {\n",
       "        text-align: right;\n",
       "    }\n",
       "</style>\n",
       "<table border=\"1\" class=\"dataframe\">\n",
       "  <thead>\n",
       "    <tr style=\"text-align: right;\">\n",
       "      <th></th>\n",
       "      <th>HomePlanet</th>\n",
       "      <th>CryoSleep</th>\n",
       "      <th>Cabin</th>\n",
       "      <th>Destination</th>\n",
       "      <th>Age</th>\n",
       "      <th>VIP</th>\n",
       "      <th>RoomService</th>\n",
       "      <th>FoodCourt</th>\n",
       "      <th>ShoppingMall</th>\n",
       "      <th>Spa</th>\n",
       "      <th>VRDeck</th>\n",
       "      <th>Name</th>\n",
       "      <th>Transported</th>\n",
       "    </tr>\n",
       "    <tr>\n",
       "      <th>PassengerId</th>\n",
       "      <th></th>\n",
       "      <th></th>\n",
       "      <th></th>\n",
       "      <th></th>\n",
       "      <th></th>\n",
       "      <th></th>\n",
       "      <th></th>\n",
       "      <th></th>\n",
       "      <th></th>\n",
       "      <th></th>\n",
       "      <th></th>\n",
       "      <th></th>\n",
       "      <th></th>\n",
       "    </tr>\n",
       "  </thead>\n",
       "  <tbody>\n",
       "    <tr>\n",
       "      <th>0001_01</th>\n",
       "      <td>Europa</td>\n",
       "      <td>False</td>\n",
       "      <td>B/0/P</td>\n",
       "      <td>TRAPPIST-1e</td>\n",
       "      <td>39.0</td>\n",
       "      <td>False</td>\n",
       "      <td>0.0</td>\n",
       "      <td>0.0</td>\n",
       "      <td>0.0</td>\n",
       "      <td>0.0</td>\n",
       "      <td>0.0</td>\n",
       "      <td>Maham Ofracculy</td>\n",
       "      <td>False</td>\n",
       "    </tr>\n",
       "    <tr>\n",
       "      <th>0002_01</th>\n",
       "      <td>Earth</td>\n",
       "      <td>False</td>\n",
       "      <td>F/0/S</td>\n",
       "      <td>TRAPPIST-1e</td>\n",
       "      <td>24.0</td>\n",
       "      <td>False</td>\n",
       "      <td>109.0</td>\n",
       "      <td>9.0</td>\n",
       "      <td>25.0</td>\n",
       "      <td>549.0</td>\n",
       "      <td>44.0</td>\n",
       "      <td>Juanna Vines</td>\n",
       "      <td>True</td>\n",
       "    </tr>\n",
       "    <tr>\n",
       "      <th>0003_01</th>\n",
       "      <td>Europa</td>\n",
       "      <td>False</td>\n",
       "      <td>A/0/S</td>\n",
       "      <td>TRAPPIST-1e</td>\n",
       "      <td>58.0</td>\n",
       "      <td>True</td>\n",
       "      <td>43.0</td>\n",
       "      <td>3576.0</td>\n",
       "      <td>0.0</td>\n",
       "      <td>6715.0</td>\n",
       "      <td>49.0</td>\n",
       "      <td>Altark Susent</td>\n",
       "      <td>False</td>\n",
       "    </tr>\n",
       "    <tr>\n",
       "      <th>0003_02</th>\n",
       "      <td>Europa</td>\n",
       "      <td>False</td>\n",
       "      <td>A/0/S</td>\n",
       "      <td>TRAPPIST-1e</td>\n",
       "      <td>33.0</td>\n",
       "      <td>False</td>\n",
       "      <td>0.0</td>\n",
       "      <td>1283.0</td>\n",
       "      <td>371.0</td>\n",
       "      <td>3329.0</td>\n",
       "      <td>193.0</td>\n",
       "      <td>Solam Susent</td>\n",
       "      <td>False</td>\n",
       "    </tr>\n",
       "    <tr>\n",
       "      <th>0004_01</th>\n",
       "      <td>Earth</td>\n",
       "      <td>False</td>\n",
       "      <td>F/1/S</td>\n",
       "      <td>TRAPPIST-1e</td>\n",
       "      <td>16.0</td>\n",
       "      <td>False</td>\n",
       "      <td>303.0</td>\n",
       "      <td>70.0</td>\n",
       "      <td>151.0</td>\n",
       "      <td>565.0</td>\n",
       "      <td>2.0</td>\n",
       "      <td>Willy Santantines</td>\n",
       "      <td>True</td>\n",
       "    </tr>\n",
       "  </tbody>\n",
       "</table>\n",
       "</div>"
      ],
      "text/plain": [
       "            HomePlanet CryoSleep  Cabin  Destination   Age    VIP  \\\n",
       "PassengerId                                                         \n",
       "0001_01         Europa     False  B/0/P  TRAPPIST-1e  39.0  False   \n",
       "0002_01          Earth     False  F/0/S  TRAPPIST-1e  24.0  False   \n",
       "0003_01         Europa     False  A/0/S  TRAPPIST-1e  58.0   True   \n",
       "0003_02         Europa     False  A/0/S  TRAPPIST-1e  33.0  False   \n",
       "0004_01          Earth     False  F/1/S  TRAPPIST-1e  16.0  False   \n",
       "\n",
       "             RoomService  FoodCourt  ShoppingMall     Spa  VRDeck  \\\n",
       "PassengerId                                                         \n",
       "0001_01              0.0        0.0           0.0     0.0     0.0   \n",
       "0002_01            109.0        9.0          25.0   549.0    44.0   \n",
       "0003_01             43.0     3576.0           0.0  6715.0    49.0   \n",
       "0003_02              0.0     1283.0         371.0  3329.0   193.0   \n",
       "0004_01            303.0       70.0         151.0   565.0     2.0   \n",
       "\n",
       "                          Name  Transported  \n",
       "PassengerId                                  \n",
       "0001_01        Maham Ofracculy        False  \n",
       "0002_01           Juanna Vines         True  \n",
       "0003_01          Altark Susent        False  \n",
       "0003_02           Solam Susent        False  \n",
       "0004_01      Willy Santantines         True  "
      ]
     },
     "execution_count": 8,
     "metadata": {},
     "output_type": "execute_result"
    }
   ],
   "source": [
    "df.head()"
   ]
  },
  {
   "cell_type": "code",
   "execution_count": 9,
   "id": "392747e4-a96c-433f-ba1e-781799a3e728",
   "metadata": {},
   "outputs": [
    {
     "data": {
      "text/plain": [
       "Index(['HomePlanet', 'CryoSleep', 'Cabin', 'Destination', 'VIP', 'Name'], dtype='object')"
      ]
     },
     "execution_count": 9,
     "metadata": {},
     "output_type": "execute_result"
    }
   ],
   "source": [
    "df.select_dtypes(include=['object']).columns"
   ]
  },
  {
   "cell_type": "code",
   "execution_count": 10,
   "id": "2bf19516-f819-4a99-814c-bc88903a63a3",
   "metadata": {},
   "outputs": [
    {
     "data": {
      "text/plain": [
       "HomePlanet      201\n",
       "CryoSleep       217\n",
       "Cabin           199\n",
       "Destination     182\n",
       "Age             179\n",
       "VIP             203\n",
       "RoomService     181\n",
       "FoodCourt       183\n",
       "ShoppingMall    208\n",
       "Spa             183\n",
       "VRDeck          188\n",
       "Name            200\n",
       "Transported       0\n",
       "dtype: int64"
      ]
     },
     "execution_count": 10,
     "metadata": {},
     "output_type": "execute_result"
    }
   ],
   "source": [
    "df.isnull().sum()"
   ]
  },
  {
   "cell_type": "code",
   "execution_count": 11,
   "id": "ee04f01a-39d3-4ba3-b55a-03553f3fcf79",
   "metadata": {},
   "outputs": [
    {
     "data": {
      "text/plain": [
       "True     0.503624\n",
       "False    0.496376\n",
       "Name: Transported, dtype: float64"
      ]
     },
     "execution_count": 11,
     "metadata": {},
     "output_type": "execute_result"
    }
   ],
   "source": [
    "df['Transported'].value_counts(normalize=True)"
   ]
  },
  {
   "cell_type": "code",
   "execution_count": 12,
   "id": "22e0b896-2a78-4d7b-812f-69f0658b4f1a",
   "metadata": {},
   "outputs": [
    {
     "data": {
      "text/html": [
       "<div>\n",
       "<style scoped>\n",
       "    .dataframe tbody tr th:only-of-type {\n",
       "        vertical-align: middle;\n",
       "    }\n",
       "\n",
       "    .dataframe tbody tr th {\n",
       "        vertical-align: top;\n",
       "    }\n",
       "\n",
       "    .dataframe thead th {\n",
       "        text-align: right;\n",
       "    }\n",
       "</style>\n",
       "<table border=\"1\" class=\"dataframe\">\n",
       "  <thead>\n",
       "    <tr style=\"text-align: right;\">\n",
       "      <th></th>\n",
       "      <th>HomePlanet</th>\n",
       "      <th>CryoSleep</th>\n",
       "      <th>Cabin</th>\n",
       "      <th>Destination</th>\n",
       "      <th>Age</th>\n",
       "      <th>VIP</th>\n",
       "      <th>RoomService</th>\n",
       "      <th>FoodCourt</th>\n",
       "      <th>ShoppingMall</th>\n",
       "      <th>Spa</th>\n",
       "      <th>VRDeck</th>\n",
       "      <th>Name</th>\n",
       "      <th>Transported</th>\n",
       "    </tr>\n",
       "    <tr>\n",
       "      <th>PassengerId</th>\n",
       "      <th></th>\n",
       "      <th></th>\n",
       "      <th></th>\n",
       "      <th></th>\n",
       "      <th></th>\n",
       "      <th></th>\n",
       "      <th></th>\n",
       "      <th></th>\n",
       "      <th></th>\n",
       "      <th></th>\n",
       "      <th></th>\n",
       "      <th></th>\n",
       "      <th></th>\n",
       "    </tr>\n",
       "  </thead>\n",
       "  <tbody>\n",
       "    <tr>\n",
       "      <th>3422_02</th>\n",
       "      <td>Europa</td>\n",
       "      <td>True</td>\n",
       "      <td>E/209/P</td>\n",
       "      <td>TRAPPIST-1e</td>\n",
       "      <td>27.0</td>\n",
       "      <td>False</td>\n",
       "      <td>0.0</td>\n",
       "      <td>0.0</td>\n",
       "      <td>0.0</td>\n",
       "      <td>0.0</td>\n",
       "      <td>0.0</td>\n",
       "      <td>Atonib Crakete</td>\n",
       "      <td>True</td>\n",
       "    </tr>\n",
       "    <tr>\n",
       "      <th>2702_01</th>\n",
       "      <td>Earth</td>\n",
       "      <td>True</td>\n",
       "      <td>G/437/P</td>\n",
       "      <td>TRAPPIST-1e</td>\n",
       "      <td>24.0</td>\n",
       "      <td>False</td>\n",
       "      <td>0.0</td>\n",
       "      <td>0.0</td>\n",
       "      <td>0.0</td>\n",
       "      <td>0.0</td>\n",
       "      <td>0.0</td>\n",
       "      <td>Mollen Garnettiz</td>\n",
       "      <td>True</td>\n",
       "    </tr>\n",
       "    <tr>\n",
       "      <th>2941_01</th>\n",
       "      <td>Earth</td>\n",
       "      <td>False</td>\n",
       "      <td>G/477/P</td>\n",
       "      <td>TRAPPIST-1e</td>\n",
       "      <td>16.0</td>\n",
       "      <td>NaN</td>\n",
       "      <td>24.0</td>\n",
       "      <td>0.0</td>\n",
       "      <td>13.0</td>\n",
       "      <td>717.0</td>\n",
       "      <td>0.0</td>\n",
       "      <td>Coreee Beasleyes</td>\n",
       "      <td>False</td>\n",
       "    </tr>\n",
       "  </tbody>\n",
       "</table>\n",
       "</div>"
      ],
      "text/plain": [
       "            HomePlanet CryoSleep    Cabin  Destination   Age    VIP  \\\n",
       "PassengerId                                                           \n",
       "3422_02         Europa      True  E/209/P  TRAPPIST-1e  27.0  False   \n",
       "2702_01          Earth      True  G/437/P  TRAPPIST-1e  24.0  False   \n",
       "2941_01          Earth     False  G/477/P  TRAPPIST-1e  16.0    NaN   \n",
       "\n",
       "             RoomService  FoodCourt  ShoppingMall    Spa  VRDeck  \\\n",
       "PassengerId                                                        \n",
       "3422_02              0.0        0.0           0.0    0.0     0.0   \n",
       "2702_01              0.0        0.0           0.0    0.0     0.0   \n",
       "2941_01             24.0        0.0          13.0  717.0     0.0   \n",
       "\n",
       "                         Name  Transported  \n",
       "PassengerId                                 \n",
       "3422_02        Atonib Crakete         True  \n",
       "2702_01      Mollen Garnettiz         True  \n",
       "2941_01      Coreee Beasleyes        False  "
      ]
     },
     "execution_count": 12,
     "metadata": {},
     "output_type": "execute_result"
    }
   ],
   "source": [
    "df.sample(3)"
   ]
  },
  {
   "cell_type": "code",
   "execution_count": 13,
   "id": "0e983918-25bb-479e-b7e2-46094b0cbfa6",
   "metadata": {},
   "outputs": [],
   "source": [
    "df['target'] = 0\n",
    "df.loc[df['Transported'] == True, 'target'] = 1"
   ]
  },
  {
   "cell_type": "code",
   "execution_count": 14,
   "id": "b4147e58-9c4a-4a69-81b5-56b42fecabdd",
   "metadata": {},
   "outputs": [
    {
     "data": {
      "text/html": [
       "<div>\n",
       "<style scoped>\n",
       "    .dataframe tbody tr th:only-of-type {\n",
       "        vertical-align: middle;\n",
       "    }\n",
       "\n",
       "    .dataframe tbody tr th {\n",
       "        vertical-align: top;\n",
       "    }\n",
       "\n",
       "    .dataframe thead th {\n",
       "        text-align: right;\n",
       "    }\n",
       "</style>\n",
       "<table border=\"1\" class=\"dataframe\">\n",
       "  <thead>\n",
       "    <tr style=\"text-align: right;\">\n",
       "      <th></th>\n",
       "      <th>HomePlanet</th>\n",
       "      <th>CryoSleep</th>\n",
       "      <th>Cabin</th>\n",
       "      <th>Destination</th>\n",
       "      <th>Age</th>\n",
       "      <th>VIP</th>\n",
       "      <th>RoomService</th>\n",
       "      <th>FoodCourt</th>\n",
       "      <th>ShoppingMall</th>\n",
       "      <th>Spa</th>\n",
       "      <th>VRDeck</th>\n",
       "      <th>Name</th>\n",
       "      <th>Transported</th>\n",
       "      <th>target</th>\n",
       "    </tr>\n",
       "    <tr>\n",
       "      <th>PassengerId</th>\n",
       "      <th></th>\n",
       "      <th></th>\n",
       "      <th></th>\n",
       "      <th></th>\n",
       "      <th></th>\n",
       "      <th></th>\n",
       "      <th></th>\n",
       "      <th></th>\n",
       "      <th></th>\n",
       "      <th></th>\n",
       "      <th></th>\n",
       "      <th></th>\n",
       "      <th></th>\n",
       "      <th></th>\n",
       "    </tr>\n",
       "  </thead>\n",
       "  <tbody>\n",
       "    <tr>\n",
       "      <th>9120_01</th>\n",
       "      <td>Earth</td>\n",
       "      <td>False</td>\n",
       "      <td>F/1763/S</td>\n",
       "      <td>TRAPPIST-1e</td>\n",
       "      <td>13.0</td>\n",
       "      <td>False</td>\n",
       "      <td>101.0</td>\n",
       "      <td>12.0</td>\n",
       "      <td>184.0</td>\n",
       "      <td>780.0</td>\n",
       "      <td>0.0</td>\n",
       "      <td>Sony Maynardner</td>\n",
       "      <td>False</td>\n",
       "      <td>0</td>\n",
       "    </tr>\n",
       "    <tr>\n",
       "      <th>0062_01</th>\n",
       "      <td>Earth</td>\n",
       "      <td>False</td>\n",
       "      <td>F/13/S</td>\n",
       "      <td>TRAPPIST-1e</td>\n",
       "      <td>62.0</td>\n",
       "      <td>False</td>\n",
       "      <td>0.0</td>\n",
       "      <td>592.0</td>\n",
       "      <td>0.0</td>\n",
       "      <td>17.0</td>\n",
       "      <td>25.0</td>\n",
       "      <td>Sterry Greeves</td>\n",
       "      <td>False</td>\n",
       "      <td>0</td>\n",
       "    </tr>\n",
       "    <tr>\n",
       "      <th>3465_01</th>\n",
       "      <td>Mars</td>\n",
       "      <td>False</td>\n",
       "      <td>F/711/P</td>\n",
       "      <td>TRAPPIST-1e</td>\n",
       "      <td>19.0</td>\n",
       "      <td>False</td>\n",
       "      <td>506.0</td>\n",
       "      <td>0.0</td>\n",
       "      <td>395.0</td>\n",
       "      <td>159.0</td>\n",
       "      <td>229.0</td>\n",
       "      <td>Mone Flaie</td>\n",
       "      <td>False</td>\n",
       "      <td>0</td>\n",
       "    </tr>\n",
       "    <tr>\n",
       "      <th>2040_01</th>\n",
       "      <td>Europa</td>\n",
       "      <td>True</td>\n",
       "      <td>B/85/S</td>\n",
       "      <td>TRAPPIST-1e</td>\n",
       "      <td>50.0</td>\n",
       "      <td>False</td>\n",
       "      <td>0.0</td>\n",
       "      <td>0.0</td>\n",
       "      <td>0.0</td>\n",
       "      <td>0.0</td>\n",
       "      <td>0.0</td>\n",
       "      <td>Lesaten Stiven</td>\n",
       "      <td>True</td>\n",
       "      <td>1</td>\n",
       "    </tr>\n",
       "  </tbody>\n",
       "</table>\n",
       "</div>"
      ],
      "text/plain": [
       "            HomePlanet CryoSleep     Cabin  Destination   Age    VIP  \\\n",
       "PassengerId                                                            \n",
       "9120_01          Earth     False  F/1763/S  TRAPPIST-1e  13.0  False   \n",
       "0062_01          Earth     False    F/13/S  TRAPPIST-1e  62.0  False   \n",
       "3465_01           Mars     False   F/711/P  TRAPPIST-1e  19.0  False   \n",
       "2040_01         Europa      True    B/85/S  TRAPPIST-1e  50.0  False   \n",
       "\n",
       "             RoomService  FoodCourt  ShoppingMall    Spa  VRDeck  \\\n",
       "PassengerId                                                        \n",
       "9120_01            101.0       12.0         184.0  780.0     0.0   \n",
       "0062_01              0.0      592.0           0.0   17.0    25.0   \n",
       "3465_01            506.0        0.0         395.0  159.0   229.0   \n",
       "2040_01              0.0        0.0           0.0    0.0     0.0   \n",
       "\n",
       "                        Name  Transported  target  \n",
       "PassengerId                                        \n",
       "9120_01      Sony Maynardner        False       0  \n",
       "0062_01       Sterry Greeves        False       0  \n",
       "3465_01           Mone Flaie        False       0  \n",
       "2040_01       Lesaten Stiven         True       1  "
      ]
     },
     "execution_count": 14,
     "metadata": {},
     "output_type": "execute_result"
    }
   ],
   "source": [
    "df.sample(4)"
   ]
  },
  {
   "cell_type": "code",
   "execution_count": 15,
   "id": "04a683f5-6a3d-4db7-bcf4-32e3b0d8fdd6",
   "metadata": {},
   "outputs": [
    {
     "data": {
      "text/plain": [
       "Earth     4602\n",
       "Europa    2131\n",
       "Mars      1759\n",
       "Name: HomePlanet, dtype: int64"
      ]
     },
     "execution_count": 15,
     "metadata": {},
     "output_type": "execute_result"
    }
   ],
   "source": [
    "df['HomePlanet'].value_counts()"
   ]
  },
  {
   "cell_type": "code",
   "execution_count": 16,
   "id": "35cc7e5d-dfa0-45ab-a17c-8b79ac8e4acc",
   "metadata": {},
   "outputs": [
    {
     "data": {
      "text/plain": [
       "1951"
      ]
     },
     "execution_count": 16,
     "metadata": {},
     "output_type": "execute_result"
    }
   ],
   "source": [
    "df[df['HomePlanet']=='Earth']['target'].sum()"
   ]
  },
  {
   "cell_type": "code",
   "execution_count": 17,
   "id": "6b0e51b8-9eff-422f-9082-389e31ef5bde",
   "metadata": {},
   "outputs": [
    {
     "data": {
      "text/plain": [
       "HomePlanet\n",
       "Earth     1951\n",
       "Europa    1404\n",
       "Mars       920\n",
       "Name: target, dtype: int64"
      ]
     },
     "execution_count": 17,
     "metadata": {},
     "output_type": "execute_result"
    }
   ],
   "source": [
    "df.groupby('HomePlanet')['target'].sum()"
   ]
  },
  {
   "cell_type": "code",
   "execution_count": 18,
   "id": "b60262af-b7bd-4806-8246-405904b10b8c",
   "metadata": {},
   "outputs": [],
   "source": [
    "# Calcular porcentajes"
   ]
  },
  {
   "cell_type": "code",
   "execution_count": 19,
   "id": "ecef9b47-842e-49e1-a917-63a30e03ddad",
   "metadata": {},
   "outputs": [
    {
     "data": {
      "text/plain": [
       "<AxesSubplot:>"
      ]
     },
     "execution_count": 19,
     "metadata": {},
     "output_type": "execute_result"
    },
    {
     "data": {
      "image/png": "[encoded data removed]",
      "text/plain": [
       "<Figure size 864x432 with 1 Axes>"
      ]
     },
     "metadata": {
      "needs_background": "light"
     },
     "output_type": "display_data"
    }
   ],
   "source": [
    "#df.Age.hist(figsize=(12,6), bins=40, alpha=0.5)\n",
    "df[df['HomePlanet']=='Earth'].Age.hist(figsize=(12,6), bins=40, alpha=0.5)\n",
    "df[df['HomePlanet']=='Europa'].Age.hist(figsize=(12,6), bins=40, alpha=0.5)\n",
    "df[df['HomePlanet']=='Mars'].Age.hist(figsize=(12,6), bins=40, alpha=0.5)"
   ]
  },
  {
   "cell_type": "code",
   "execution_count": 21,
   "id": "fda36aab-ad0f-4eb8-a08b-bc7debb09adb",
   "metadata": {},
   "outputs": [
    {
     "data": {
      "text/plain": [
       "array([<AxesSubplot:title={'center':'0'}>,\n",
       "       <AxesSubplot:title={'center':'1'}>], dtype=object)"
      ]
     },
     "execution_count": 21,
     "metadata": {},
     "output_type": "execute_result"
    },
    {
     "data": {
      "image/png": "[encoded data removed]",
      "text/plain": [
       "<Figure size 864x432 with 2 Axes>"
      ]
     },
     "metadata": {
      "needs_background": "light"
     },
     "output_type": "display_data"
    }
   ],
   "source": [
    "df.hist(column='Age',by='target',figsize=(12,6), bins=40, alpha=0.5, legend=True)"
   ]
  },
  {
   "cell_type": "code",
   "execution_count": 22,
   "id": "cf4730f6-e7c6-4eec-9d27-a67bc526f14c",
   "metadata": {},
   "outputs": [
    {
     "data": {
      "text/plain": [
       "<AxesSubplot:>"
      ]
     },
     "execution_count": 22,
     "metadata": {},
     "output_type": "execute_result"
    },
    {
     "data": {
      "image/png": "[encoded data removed]",
      "text/plain": [
       "<Figure size 864x432 with 1 Axes>"
      ]
     },
     "metadata": {
      "needs_background": "light"
     },
     "output_type": "display_data"
    }
   ],
   "source": [
    "df[df['target']==1].Age.hist(figsize=(12,6), bins=40, alpha=0.7, legend=True)\n",
    "df[df['target']==0].Age.hist(figsize=(12,6), bins=40, alpha=0.5, legend=True)"
   ]
  },
  {
   "cell_type": "code",
   "execution_count": 23,
   "id": "d9f3045e-1915-44eb-bb2c-a08b26e3fa5f",
   "metadata": {},
   "outputs": [
    {
     "data": {
      "text/plain": [
       "count    4514.000000\n",
       "mean       26.068232\n",
       "std        14.317496\n",
       "min         0.000000\n",
       "25%        18.000000\n",
       "50%        23.000000\n",
       "75%        35.000000\n",
       "max        79.000000\n",
       "Name: Age, dtype: float64"
      ]
     },
     "execution_count": 23,
     "metadata": {},
     "output_type": "execute_result"
    }
   ],
   "source": [
    "df[df['HomePlanet']=='Earth'].Age.describe()"
   ]
  },
  {
   "cell_type": "code",
   "execution_count": 24,
   "id": "fc6f1b0f-d944-4039-9d07-2e505b368659",
   "metadata": {},
   "outputs": [
    {
     "data": {
      "text/plain": [
       "count    2085.000000\n",
       "mean       34.419664\n",
       "std        13.089347\n",
       "min         0.000000\n",
       "25%        26.000000\n",
       "50%        33.000000\n",
       "75%        43.000000\n",
       "max        79.000000\n",
       "Name: Age, dtype: float64"
      ]
     },
     "execution_count": 24,
     "metadata": {},
     "output_type": "execute_result"
    }
   ],
   "source": [
    "df[df['HomePlanet']=='Europa'].Age.describe()"
   ]
  },
  {
   "cell_type": "code",
   "execution_count": 25,
   "id": "774618e1-e67c-42a4-97b1-d51695b114f8",
   "metadata": {},
   "outputs": [
    {
     "data": {
      "text/plain": [
       "count    1716.000000\n",
       "mean       29.297203\n",
       "std        14.558386\n",
       "min         0.000000\n",
       "25%        20.000000\n",
       "50%        28.000000\n",
       "75%        38.000000\n",
       "max        76.000000\n",
       "Name: Age, dtype: float64"
      ]
     },
     "execution_count": 25,
     "metadata": {},
     "output_type": "execute_result"
    }
   ],
   "source": [
    "df[df['HomePlanet']=='Mars'].Age.describe()"
   ]
  },
  {
   "cell_type": "code",
   "execution_count": 26,
   "id": "b5fcd13a-e5fb-4b5d-81a4-153dd0d270d9",
   "metadata": {},
   "outputs": [
    {
     "data": {
      "text/plain": [
       "count    1716.000000\n",
       "mean       29.297203\n",
       "std        14.558386\n",
       "min         0.000000\n",
       "25%        20.000000\n",
       "50%        28.000000\n",
       "75%        38.000000\n",
       "max        76.000000\n",
       "Name: Age, dtype: float64"
      ]
     },
     "execution_count": 26,
     "metadata": {},
     "output_type": "execute_result"
    }
   ],
   "source": [
    "df[df['HomePlanet']=='Mars'].Age.describe()"
   ]
  },
  {
   "cell_type": "code",
   "execution_count": 20,
   "id": "281a7f90-89bd-4243-b49c-cb5ba9ee0550",
   "metadata": {},
   "outputs": [],
   "source": [
    "num_cols = list(df.select_dtypes(include=['float']).columns)"
   ]
  },
  {
   "cell_type": "code",
   "execution_count": 21,
   "id": "f7a523a2-97ed-4d4b-af22-13bea844bab1",
   "metadata": {},
   "outputs": [
    {
     "data": {
      "text/plain": [
       "Age             179\n",
       "RoomService     181\n",
       "FoodCourt       183\n",
       "ShoppingMall    208\n",
       "Spa             183\n",
       "VRDeck          188\n",
       "dtype: int64"
      ]
     },
     "execution_count": 21,
     "metadata": {},
     "output_type": "execute_result"
    }
   ],
   "source": [
    "df[num_cols].isnull().sum()"
   ]
  },
  {
   "cell_type": "code",
   "execution_count": 22,
   "id": "caa28595-37dc-4ca7-8133-88eccb850966",
   "metadata": {},
   "outputs": [
    {
     "data": {
      "text/html": [
       "<div>\n",
       "<style scoped>\n",
       "    .dataframe tbody tr th:only-of-type {\n",
       "        vertical-align: middle;\n",
       "    }\n",
       "\n",
       "    .dataframe tbody tr th {\n",
       "        vertical-align: top;\n",
       "    }\n",
       "\n",
       "    .dataframe thead th {\n",
       "        text-align: right;\n",
       "    }\n",
       "</style>\n",
       "<table border=\"1\" class=\"dataframe\">\n",
       "  <thead>\n",
       "    <tr style=\"text-align: right;\">\n",
       "      <th></th>\n",
       "      <th>HomePlanet</th>\n",
       "      <th>CryoSleep</th>\n",
       "      <th>Cabin</th>\n",
       "      <th>Destination</th>\n",
       "      <th>Age</th>\n",
       "      <th>VIP</th>\n",
       "      <th>RoomService</th>\n",
       "      <th>FoodCourt</th>\n",
       "      <th>ShoppingMall</th>\n",
       "      <th>Spa</th>\n",
       "      <th>VRDeck</th>\n",
       "      <th>Name</th>\n",
       "      <th>Transported</th>\n",
       "      <th>target</th>\n",
       "    </tr>\n",
       "    <tr>\n",
       "      <th>PassengerId</th>\n",
       "      <th></th>\n",
       "      <th></th>\n",
       "      <th></th>\n",
       "      <th></th>\n",
       "      <th></th>\n",
       "      <th></th>\n",
       "      <th></th>\n",
       "      <th></th>\n",
       "      <th></th>\n",
       "      <th></th>\n",
       "      <th></th>\n",
       "      <th></th>\n",
       "      <th></th>\n",
       "      <th></th>\n",
       "    </tr>\n",
       "  </thead>\n",
       "  <tbody>\n",
       "    <tr>\n",
       "      <th>0068_01</th>\n",
       "      <td>Mars</td>\n",
       "      <td>False</td>\n",
       "      <td>E/4/S</td>\n",
       "      <td>TRAPPIST-1e</td>\n",
       "      <td>NaN</td>\n",
       "      <td>False</td>\n",
       "      <td>793.0</td>\n",
       "      <td>0.0</td>\n",
       "      <td>2.0</td>\n",
       "      <td>253.0</td>\n",
       "      <td>0.0</td>\n",
       "      <td>Cinst Binie</td>\n",
       "      <td>False</td>\n",
       "      <td>0</td>\n",
       "    </tr>\n",
       "    <tr>\n",
       "      <th>0527_01</th>\n",
       "      <td>Mars</td>\n",
       "      <td>False</td>\n",
       "      <td>F/93/S</td>\n",
       "      <td>55 Cancri e</td>\n",
       "      <td>NaN</td>\n",
       "      <td>False</td>\n",
       "      <td>1172.0</td>\n",
       "      <td>11.0</td>\n",
       "      <td>3.0</td>\n",
       "      <td>0.0</td>\n",
       "      <td>4.0</td>\n",
       "      <td>Supce Stité</td>\n",
       "      <td>False</td>\n",
       "      <td>0</td>\n",
       "    </tr>\n",
       "    <tr>\n",
       "      <th>0593_01</th>\n",
       "      <td>Mars</td>\n",
       "      <td>False</td>\n",
       "      <td>D/24/P</td>\n",
       "      <td>TRAPPIST-1e</td>\n",
       "      <td>NaN</td>\n",
       "      <td>NaN</td>\n",
       "      <td>43.0</td>\n",
       "      <td>152.0</td>\n",
       "      <td>182.0</td>\n",
       "      <td>1.0</td>\n",
       "      <td>2005.0</td>\n",
       "      <td>Hon Kra</td>\n",
       "      <td>False</td>\n",
       "      <td>0</td>\n",
       "    </tr>\n",
       "    <tr>\n",
       "      <th>0684_01</th>\n",
       "      <td>Mars</td>\n",
       "      <td>False</td>\n",
       "      <td>F/145/P</td>\n",
       "      <td>TRAPPIST-1e</td>\n",
       "      <td>NaN</td>\n",
       "      <td>False</td>\n",
       "      <td>0.0</td>\n",
       "      <td>0.0</td>\n",
       "      <td>0.0</td>\n",
       "      <td>0.0</td>\n",
       "      <td>0.0</td>\n",
       "      <td>Sug Conie</td>\n",
       "      <td>True</td>\n",
       "      <td>1</td>\n",
       "    </tr>\n",
       "    <tr>\n",
       "      <th>0809_02</th>\n",
       "      <td>Mars</td>\n",
       "      <td>False</td>\n",
       "      <td>F/151/S</td>\n",
       "      <td>TRAPPIST-1e</td>\n",
       "      <td>NaN</td>\n",
       "      <td>False</td>\n",
       "      <td>1227.0</td>\n",
       "      <td>42.0</td>\n",
       "      <td>1.0</td>\n",
       "      <td>0.0</td>\n",
       "      <td>0.0</td>\n",
       "      <td>Crin Meake</td>\n",
       "      <td>False</td>\n",
       "      <td>0</td>\n",
       "    </tr>\n",
       "  </tbody>\n",
       "</table>\n",
       "</div>"
      ],
      "text/plain": [
       "            HomePlanet CryoSleep    Cabin  Destination  Age    VIP  \\\n",
       "PassengerId                                                          \n",
       "0068_01           Mars     False    E/4/S  TRAPPIST-1e  NaN  False   \n",
       "0527_01           Mars     False   F/93/S  55 Cancri e  NaN  False   \n",
       "0593_01           Mars     False   D/24/P  TRAPPIST-1e  NaN    NaN   \n",
       "0684_01           Mars     False  F/145/P  TRAPPIST-1e  NaN  False   \n",
       "0809_02           Mars     False  F/151/S  TRAPPIST-1e  NaN  False   \n",
       "\n",
       "             RoomService  FoodCourt  ShoppingMall    Spa  VRDeck         Name  \\\n",
       "PassengerId                                                                     \n",
       "0068_01            793.0        0.0           2.0  253.0     0.0  Cinst Binie   \n",
       "0527_01           1172.0       11.0           3.0    0.0     4.0  Supce Stité   \n",
       "0593_01             43.0      152.0         182.0    1.0  2005.0      Hon Kra   \n",
       "0684_01              0.0        0.0           0.0    0.0     0.0    Sug Conie   \n",
       "0809_02           1227.0       42.0           1.0    0.0     0.0   Crin Meake   \n",
       "\n",
       "             Transported  target  \n",
       "PassengerId                       \n",
       "0068_01            False       0  \n",
       "0527_01            False       0  \n",
       "0593_01            False       0  \n",
       "0684_01             True       1  \n",
       "0809_02            False       0  "
      ]
     },
     "execution_count": 22,
     "metadata": {},
     "output_type": "execute_result"
    }
   ],
   "source": [
    "df[(df['HomePlanet']=='Mars')&(df['Age'].isnull())].head()"
   ]
  },
  {
   "cell_type": "code",
   "execution_count": 23,
   "id": "4f206e20-1602-4381-9ff5-b99e0e7cd2d0",
   "metadata": {},
   "outputs": [
    {
     "data": {
      "text/plain": [
       "29.297202797202797"
      ]
     },
     "execution_count": 23,
     "metadata": {},
     "output_type": "execute_result"
    }
   ],
   "source": [
    "df[df['HomePlanet']=='Mars'].Age.mean()"
   ]
  },
  {
   "cell_type": "code",
   "execution_count": 24,
   "id": "5188db1e-468f-4143-b4aa-2ebb5f1e5ba9",
   "metadata": {},
   "outputs": [
    {
     "data": {
      "text/plain": [
       "array(['Europa', 'Earth', 'Mars', nan], dtype=object)"
      ]
     },
     "execution_count": 24,
     "metadata": {},
     "output_type": "execute_result"
    }
   ],
   "source": [
    "df['HomePlanet'].unique()"
   ]
  },
  {
   "cell_type": "code",
   "execution_count": 25,
   "id": "fd570b52-fbd2-434c-a775-d32a135b4d45",
   "metadata": {},
   "outputs": [],
   "source": [
    "planets = ['Europa', 'Earth', 'Mars']"
   ]
  },
  {
   "cell_type": "code",
   "execution_count": 27,
   "id": "bf122a03-be66-4bed-b765-fdf35b9fdccd",
   "metadata": {},
   "outputs": [
    {
     "data": {
      "text/plain": [
       "HomePlanet\n",
       "Earth     26.068232\n",
       "Europa    34.419664\n",
       "Mars      29.297203\n",
       "Name: Age, dtype: float64"
      ]
     },
     "execution_count": 27,
     "metadata": {},
     "output_type": "execute_result"
    }
   ],
   "source": [
    "df.groupby('HomePlanet')['Age'].mean()"
   ]
  },
  {
   "cell_type": "code",
   "execution_count": 28,
   "id": "7f72e3b1-44d3-405d-b30c-b283b0683477",
   "metadata": {},
   "outputs": [
    {
     "data": {
      "text/plain": [
       "array([[<AxesSubplot:title={'center':'Age'}>,\n",
       "        <AxesSubplot:title={'center':'RoomService'}>],\n",
       "       [<AxesSubplot:title={'center':'FoodCourt'}>,\n",
       "        <AxesSubplot:title={'center':'ShoppingMall'}>],\n",
       "       [<AxesSubplot:title={'center':'Spa'}>,\n",
       "        <AxesSubplot:title={'center':'VRDeck'}>]], dtype=object)"
      ]
     },
     "execution_count": 28,
     "metadata": {},
     "output_type": "execute_result"
    },
    {
     "data": {
      "image/png": "[encoded data removed]",
      "text/plain": [
       "<Figure size 1152x720 with 6 Axes>"
      ]
     },
     "metadata": {
      "needs_background": "light"
     },
     "output_type": "display_data"
    }
   ],
   "source": [
    "df[num_cols].hist(figsize=(16,10))"
   ]
  },
  {
   "cell_type": "code",
   "execution_count": 29,
   "id": "5616bc2a-0f87-4f64-ab37-556176399a8d",
   "metadata": {},
   "outputs": [
    {
     "data": {
      "text/html": [
       "<div>\n",
       "<style scoped>\n",
       "    .dataframe tbody tr th:only-of-type {\n",
       "        vertical-align: middle;\n",
       "    }\n",
       "\n",
       "    .dataframe tbody tr th {\n",
       "        vertical-align: top;\n",
       "    }\n",
       "\n",
       "    .dataframe thead th {\n",
       "        text-align: right;\n",
       "    }\n",
       "</style>\n",
       "<table border=\"1\" class=\"dataframe\">\n",
       "  <thead>\n",
       "    <tr style=\"text-align: right;\">\n",
       "      <th></th>\n",
       "      <th>Age</th>\n",
       "      <th>RoomService</th>\n",
       "      <th>FoodCourt</th>\n",
       "      <th>ShoppingMall</th>\n",
       "      <th>Spa</th>\n",
       "      <th>VRDeck</th>\n",
       "    </tr>\n",
       "  </thead>\n",
       "  <tbody>\n",
       "    <tr>\n",
       "      <th>count</th>\n",
       "      <td>8514.000000</td>\n",
       "      <td>8512.000000</td>\n",
       "      <td>8510.000000</td>\n",
       "      <td>8485.000000</td>\n",
       "      <td>8510.000000</td>\n",
       "      <td>8505.000000</td>\n",
       "    </tr>\n",
       "    <tr>\n",
       "      <th>mean</th>\n",
       "      <td>28.827930</td>\n",
       "      <td>224.687617</td>\n",
       "      <td>458.077203</td>\n",
       "      <td>173.729169</td>\n",
       "      <td>311.138778</td>\n",
       "      <td>304.854791</td>\n",
       "    </tr>\n",
       "    <tr>\n",
       "      <th>std</th>\n",
       "      <td>14.489021</td>\n",
       "      <td>666.717663</td>\n",
       "      <td>1611.489240</td>\n",
       "      <td>604.696458</td>\n",
       "      <td>1136.705535</td>\n",
       "      <td>1145.717189</td>\n",
       "    </tr>\n",
       "    <tr>\n",
       "      <th>min</th>\n",
       "      <td>0.000000</td>\n",
       "      <td>0.000000</td>\n",
       "      <td>0.000000</td>\n",
       "      <td>0.000000</td>\n",
       "      <td>0.000000</td>\n",
       "      <td>0.000000</td>\n",
       "    </tr>\n",
       "    <tr>\n",
       "      <th>25%</th>\n",
       "      <td>19.000000</td>\n",
       "      <td>0.000000</td>\n",
       "      <td>0.000000</td>\n",
       "      <td>0.000000</td>\n",
       "      <td>0.000000</td>\n",
       "      <td>0.000000</td>\n",
       "    </tr>\n",
       "    <tr>\n",
       "      <th>50%</th>\n",
       "      <td>27.000000</td>\n",
       "      <td>0.000000</td>\n",
       "      <td>0.000000</td>\n",
       "      <td>0.000000</td>\n",
       "      <td>0.000000</td>\n",
       "      <td>0.000000</td>\n",
       "    </tr>\n",
       "    <tr>\n",
       "      <th>75%</th>\n",
       "      <td>38.000000</td>\n",
       "      <td>47.000000</td>\n",
       "      <td>76.000000</td>\n",
       "      <td>27.000000</td>\n",
       "      <td>59.000000</td>\n",
       "      <td>46.000000</td>\n",
       "    </tr>\n",
       "    <tr>\n",
       "      <th>max</th>\n",
       "      <td>79.000000</td>\n",
       "      <td>14327.000000</td>\n",
       "      <td>29813.000000</td>\n",
       "      <td>23492.000000</td>\n",
       "      <td>22408.000000</td>\n",
       "      <td>24133.000000</td>\n",
       "    </tr>\n",
       "  </tbody>\n",
       "</table>\n",
       "</div>"
      ],
      "text/plain": [
       "               Age   RoomService     FoodCourt  ShoppingMall           Spa  \\\n",
       "count  8514.000000   8512.000000   8510.000000   8485.000000   8510.000000   \n",
       "mean     28.827930    224.687617    458.077203    173.729169    311.138778   \n",
       "std      14.489021    666.717663   1611.489240    604.696458   1136.705535   \n",
       "min       0.000000      0.000000      0.000000      0.000000      0.000000   \n",
       "25%      19.000000      0.000000      0.000000      0.000000      0.000000   \n",
       "50%      27.000000      0.000000      0.000000      0.000000      0.000000   \n",
       "75%      38.000000     47.000000     76.000000     27.000000     59.000000   \n",
       "max      79.000000  14327.000000  29813.000000  23492.000000  22408.000000   \n",
       "\n",
       "             VRDeck  \n",
       "count   8505.000000  \n",
       "mean     304.854791  \n",
       "std     1145.717189  \n",
       "min        0.000000  \n",
       "25%        0.000000  \n",
       "50%        0.000000  \n",
       "75%       46.000000  \n",
       "max    24133.000000  "
      ]
     },
     "execution_count": 29,
     "metadata": {},
     "output_type": "execute_result"
    }
   ],
   "source": [
    "df[num_cols].describe()"
   ]
  },
  {
   "cell_type": "code",
   "execution_count": 30,
   "id": "319490ec-4f43-4fab-b10c-1cd6362cf34d",
   "metadata": {},
   "outputs": [
    {
     "data": {
      "text/plain": [
       "7711.136000000872"
      ]
     },
     "execution_count": 30,
     "metadata": {},
     "output_type": "execute_result"
    }
   ],
   "source": [
    "np.nanpercentile(df['RoomService'], 99.9)"
   ]
  },
  {
   "cell_type": "code",
   "execution_count": 31,
   "id": "16ff2da6-e252-46bf-b347-11cb076f60c3",
   "metadata": {},
   "outputs": [],
   "source": [
    "for num in num_cols:\n",
    "    df.loc[ df[num].isnull() , num] = np.nanpercentile(df[num], 99.9)\n",
    "    df[num] = df[num].map(lambda x: np.log(1 + x))"
   ]
  },
  {
   "cell_type": "code",
   "execution_count": 32,
   "id": "52bba3a3-1673-4560-b780-66e2297e718b",
   "metadata": {},
   "outputs": [
    {
     "data": {
      "text/plain": [
       "array([[<AxesSubplot:title={'center':'Age'}>,\n",
       "        <AxesSubplot:title={'center':'RoomService'}>],\n",
       "       [<AxesSubplot:title={'center':'FoodCourt'}>,\n",
       "        <AxesSubplot:title={'center':'ShoppingMall'}>],\n",
       "       [<AxesSubplot:title={'center':'Spa'}>,\n",
       "        <AxesSubplot:title={'center':'VRDeck'}>]], dtype=object)"
      ]
     },
     "execution_count": 32,
     "metadata": {},
     "output_type": "execute_result"
    },
    {
     "data": {
      "image/png": "[encoded data removed]",
      "text/plain": [
       "<Figure size 1152x720 with 6 Axes>"
      ]
     },
     "metadata": {
      "needs_background": "light"
     },
     "output_type": "display_data"
    }
   ],
   "source": [
    "df[num_cols].hist(bins=20, figsize=(16,10))"
   ]
  },
  {
   "cell_type": "code",
   "execution_count": 33,
   "id": "bc75d555-e24e-4226-adf3-7fc48eac8d8d",
   "metadata": {},
   "outputs": [
    {
     "data": {
      "text/plain": [
       "<AxesSubplot:>"
      ]
     },
     "execution_count": 33,
     "metadata": {},
     "output_type": "execute_result"
    },
    {
     "data": {
      "image/png": "[encoded data removed]",
      "text/plain": [
       "<Figure size 432x288 with 1 Axes>"
      ]
     },
     "metadata": {
      "needs_background": "light"
     },
     "output_type": "display_data"
    }
   ],
   "source": [
    "df[df['RoomService']>0]['RoomService'].hist()"
   ]
  },
  {
   "cell_type": "markdown",
   "id": "50c8bdc0-9198-40cb-b04f-545d4b6cd90d",
   "metadata": {},
   "source": [
    "### Categorical data"
   ]
  },
  {
   "cell_type": "code",
   "execution_count": 34,
   "id": "0605462d-e3ea-4c12-96c9-c279e97c6e08",
   "metadata": {},
   "outputs": [],
   "source": [
    "# Drop the name\n",
    "df.drop(columns='Name', inplace=True)"
   ]
  },
  {
   "cell_type": "code",
   "execution_count": 35,
   "id": "e482a84a-a121-4432-8fe4-112fedd80712",
   "metadata": {},
   "outputs": [
    {
     "data": {
      "text/plain": [
       "['HomePlanet', 'CryoSleep', 'Cabin', 'Destination', 'VIP']"
      ]
     },
     "execution_count": 35,
     "metadata": {},
     "output_type": "execute_result"
    }
   ],
   "source": [
    "cat_cols = list(df.select_dtypes(include=['object']).columns)\n",
    "cat_cols"
   ]
  },
  {
   "cell_type": "code",
   "execution_count": 36,
   "id": "bbcb7eed-85fa-41eb-816b-f87e6efb3745",
   "metadata": {},
   "outputs": [
    {
     "data": {
      "text/plain": [
       "HomePlanet     201\n",
       "CryoSleep      217\n",
       "Cabin          199\n",
       "Destination    182\n",
       "VIP            203\n",
       "dtype: int64"
      ]
     },
     "execution_count": 36,
     "metadata": {},
     "output_type": "execute_result"
    }
   ],
   "source": [
    "df[cat_cols].isnull().sum()"
   ]
  },
  {
   "cell_type": "code",
   "execution_count": 37,
   "id": "0d496058-e532-47a9-9e83-6a67e180937a",
   "metadata": {},
   "outputs": [
    {
     "name": "stdout",
     "output_type": "stream",
     "text": [
      "HomePlanet 3 ['Europa' 'Earth' 'Mars' nan]\n",
      "CryoSleep 2 [False True nan]\n",
      "Cabin 6560 ['B/0/P' 'F/0/S' 'A/0/S' ... 'G/1499/S' 'G/1500/S' 'E/608/S']\n",
      "Destination 3 ['TRAPPIST-1e' 'PSO J318.5-22' '55 Cancri e' nan]\n",
      "VIP 2 [False True nan]\n"
     ]
    }
   ],
   "source": [
    "for cat in cat_cols:\n",
    "    print(cat,df[cat].nunique(),df[cat].unique())"
   ]
  },
  {
   "cell_type": "code",
   "execution_count": 38,
   "id": "68e9532f-6f61-4778-a05d-2dc1c517d2b2",
   "metadata": {},
   "outputs": [],
   "source": [
    "# Creamos una nueva categoria en cada caso, por ejemplo la cabina \"cabin_nibiru\"\n",
    "\n",
    "for cat in cat_cols:\n",
    "    df.loc[ (df[cat].isnull()) , cat] = cat+'_nibiru'\n",
    "    df[cat] = df[cat].apply(lambda x : str(x))"
   ]
  },
  {
   "cell_type": "markdown",
   "id": "7c474607-7ada-4106-af03-a9c030fbf1d0",
   "metadata": {},
   "source": [
    "## Modeling"
   ]
  },
  {
   "cell_type": "code",
   "execution_count": 39,
   "id": "84f49c28-102c-475b-bd64-8ac42e3b0a75",
   "metadata": {},
   "outputs": [],
   "source": [
    "X = df[num_cols+cat_cols]\n",
    "y = df['target']"
   ]
  },
  {
   "cell_type": "code",
   "execution_count": 40,
   "id": "25668bb8-d0aa-4fc3-8267-2bef71835f07",
   "metadata": {},
   "outputs": [],
   "source": [
    "from sklearn.model_selection import train_test_split"
   ]
  },
  {
   "cell_type": "code",
   "execution_count": 41,
   "id": "ba5b0b16-35da-48a4-8b24-5104eac20395",
   "metadata": {},
   "outputs": [],
   "source": [
    "x_train, x_test, y_train, y_test = train_test_split(X,y, \n",
    "                                                    random_state=2022, \n",
    "                                                    test_size=0.3,\n",
    "                                                    stratify =y)"
   ]
  },
  {
   "cell_type": "code",
   "execution_count": 42,
   "id": "d2e92cdc-16e2-4dbd-a090-4a396ee1bc96",
   "metadata": {},
   "outputs": [],
   "source": [
    "# statistical learning\n",
    "from sklearn.linear_model import LogisticRegression\n",
    "\n",
    "# tree based methods\n",
    "from sklearn.tree import DecisionTreeClassifier\n",
    "from sklearn.ensemble import RandomForestClassifier\n",
    "\n",
    "# DNN\n",
    "from sklearn.neural_network import MLPClassifier\n",
    "\n",
    "# To measure performance\n",
    "from sklearn.metrics import accuracy_score\n",
    "from sklearn import metrics"
   ]
  },
  {
   "cell_type": "code",
   "execution_count": 43,
   "id": "c5424a01-b41c-4a3f-b8e9-4b6ce35402d9",
   "metadata": {},
   "outputs": [],
   "source": [
    "from sklearn.preprocessing import OrdinalEncoder"
   ]
  },
  {
   "cell_type": "code",
   "execution_count": 44,
   "id": "0487dd25-db44-488c-a597-35884b1cf4de",
   "metadata": {},
   "outputs": [],
   "source": [
    "ordinal_enc = OrdinalEncoder(handle_unknown=\"use_encoded_value\",\n",
    "                             unknown_value = 9999)"
   ]
  },
  {
   "cell_type": "code",
   "execution_count": 45,
   "id": "3fb7e7a7-1d45-4af6-bbe2-d7cc0756c840",
   "metadata": {},
   "outputs": [],
   "source": [
    "x_train[cat_cols] = ordinal_enc.fit_transform(x_train[cat_cols])"
   ]
  },
  {
   "cell_type": "code",
   "execution_count": 55,
   "id": "8ac68653-3052-4aa2-a0a6-a69ddd5ed008",
   "metadata": {},
   "outputs": [],
   "source": [
    "dt = RandomForestClassifier(max_depth=5,\n",
    "                            random_state=2022)"
   ]
  },
  {
   "cell_type": "code",
   "execution_count": 47,
   "id": "48addc40-9aa4-464f-81dd-912811c61dc3",
   "metadata": {},
   "outputs": [],
   "source": [
    "dt = DecisionTreeClassifier(#ccp_alpha=, \n",
    "                            criterion='gini', \n",
    "                            max_depth=4,\n",
    "                            #max_features=12, \n",
    "                            random_state=2022)"
   ]
  },
  {
   "cell_type": "code",
   "execution_count": 48,
   "id": "a3a44b9e-0fb2-4a12-9f5d-380ecf7d0542",
   "metadata": {},
   "outputs": [],
   "source": [
    "x_test[cat_cols] = ordinal_enc.transform(x_test[cat_cols])"
   ]
  },
  {
   "cell_type": "code",
   "execution_count": 56,
   "id": "3dfece5a-151c-4855-9614-9269870a1623",
   "metadata": {},
   "outputs": [],
   "source": [
    "dt.fit(x_train, y_train)\n",
    "\n",
    "y_pred = dt.predict(x_test)"
   ]
  },
  {
   "cell_type": "code",
   "execution_count": 51,
   "id": "32e9d789-ca44-48bc-9b38-821c387f2f42",
   "metadata": {},
   "outputs": [],
   "source": [
    "accuracies =dict()\n",
    "recall = dict()"
   ]
  },
  {
   "cell_type": "code",
   "execution_count": 57,
   "id": "bfdbd8b5-1cd5-45fa-ab53-69f1f94c346d",
   "metadata": {},
   "outputs": [
    {
     "name": "stdout",
     "output_type": "stream",
     "text": [
      "Accuracy of Decision Tree Classifier is:  0.7848926380368099\n",
      "Recall Score of Decision Tree Classifier is:  0.7715156130997716\n"
     ]
    }
   ],
   "source": [
    "accuracies['Decision Tree Classifier'] = accuracy_score(y_pred, y_test)\n",
    "recall['Decision Tree Classifier'] = metrics.recall_score(y_test,y_pred)\n",
    "\n",
    "print('Accuracy of Decision Tree Classifier is: ', accuracy_score(y_test,y_pred))\n",
    "print('Recall Score of Decision Tree Classifier is: ', metrics.recall_score(y_test, y_pred))"
   ]
  },
  {
   "cell_type": "code",
   "execution_count": 53,
   "id": "8a1f59a3-b587-4ea4-bcd6-8dbbf1f39745",
   "metadata": {},
   "outputs": [],
   "source": [
    "from sklearn.metrics import confusion_matrix as cfm\n",
    "from sklearn.metrics import classification_report"
   ]
  },
  {
   "cell_type": "code",
   "execution_count": 58,
   "id": "2fabf097-f7ae-4a30-806a-76daed0b1ce2",
   "metadata": {},
   "outputs": [
    {
     "data": {
      "text/plain": [
       "array([[1034,  261],\n",
       "       [ 300, 1013]])"
      ]
     },
     "execution_count": 58,
     "metadata": {},
     "output_type": "execute_result"
    }
   ],
   "source": [
    "cfm(y_test, y_pred)"
   ]
  },
  {
   "cell_type": "code",
   "execution_count": null,
   "id": "46bbf476-d340-4362-81b2-79c353f85f88",
   "metadata": {},
   "outputs": [],
   "source": []
  },
  {
   "cell_type": "markdown",
   "id": "fa578096-2549-4ac1-8694-70a413b463b6",
   "metadata": {},
   "source": [
    "# A partir de aqui son validaciones que se hicieron en cualquier orden y no van a salir al ejecutarse una tras otra..."
   ]
  },
  {
   "cell_type": "markdown",
   "id": "238b4ddc-a997-4725-8485-65a2a8306646",
   "metadata": {},
   "source": [
    "Random forest\n",
    "\n",
    "* precision en 1: 1050/ 1050 + 289 = 78.4%\n",
    "* precision en 0: 1006/ 1006 + 263 = 79.3%"
   ]
  },
  {
   "cell_type": "code",
   "execution_count": 139,
   "id": "9d4758b7-7711-4c47-a607-90b188d4f9e6",
   "metadata": {},
   "outputs": [
    {
     "data": {
      "text/plain": [
       "0.7927501970055162"
      ]
     },
     "execution_count": 139,
     "metadata": {},
     "output_type": "execute_result"
    }
   ],
   "source": [
    "1006/ (1006 + 263)"
   ]
  },
  {
   "cell_type": "code",
   "execution_count": 83,
   "id": "85315789-b7c5-47dd-ba13-51766e85cedb",
   "metadata": {},
   "outputs": [
    {
     "data": {
      "text/plain": [
       "(1295, 1313)"
      ]
     },
     "execution_count": 83,
     "metadata": {},
     "output_type": "execute_result"
    }
   ],
   "source": [
    "len(y_test) - y_test.sum(), y_test.sum()"
   ]
  },
  {
   "cell_type": "markdown",
   "id": "c6aaee81-bccb-4e5a-bf9e-1fde61137375",
   "metadata": {},
   "source": [
    "* falsos positivos = 477\n",
    "* falsos negativos = 259\n",
    "\n",
    "* Con un corte en 0.5: 818/1295 = 62.6% 0's correctamente clasificados, 80.3%\n",
    "* Con un corte en 0 : 62.7% 0s, 81.49% 1s\n",
    "* Con un corte en 1 : 78.6% 0s, 23.8% 1s"
   ]
  },
  {
   "cell_type": "code",
   "execution_count": 127,
   "id": "3c5dfd91-25e9-4a24-9e4a-2630ca3ec563",
   "metadata": {},
   "outputs": [
    {
     "data": {
      "text/plain": [
       "(0.814927646610815, 0.18507235338918507)"
      ]
     },
     "execution_count": 127,
     "metadata": {},
     "output_type": "execute_result"
    }
   ],
   "source": [
    "1070/1313, 243/1313"
   ]
  },
  {
   "cell_type": "code",
   "execution_count": 128,
   "id": "cfd3335c-d2f5-42b6-82b2-7adf0826292a",
   "metadata": {},
   "outputs": [
    {
     "data": {
      "text/plain": [
       "0.7613899613899614"
      ]
     },
     "execution_count": 128,
     "metadata": {},
     "output_type": "execute_result"
    }
   ],
   "source": [
    "986/1295"
   ]
  },
  {
   "cell_type": "code",
   "execution_count": 443,
   "id": "39e45896-0c6d-4c9c-b692-0bc7253aa10a",
   "metadata": {},
   "outputs": [
    {
     "data": {
      "text/html": [
       "<div>\n",
       "<style scoped>\n",
       "    .dataframe tbody tr th:only-of-type {\n",
       "        vertical-align: middle;\n",
       "    }\n",
       "\n",
       "    .dataframe tbody tr th {\n",
       "        vertical-align: top;\n",
       "    }\n",
       "\n",
       "    .dataframe thead th {\n",
       "        text-align: right;\n",
       "    }\n",
       "</style>\n",
       "<table border=\"1\" class=\"dataframe\">\n",
       "  <thead>\n",
       "    <tr style=\"text-align: right;\">\n",
       "      <th></th>\n",
       "      <th>Age</th>\n",
       "      <th>RoomService</th>\n",
       "      <th>FoodCourt</th>\n",
       "      <th>ShoppingMall</th>\n",
       "      <th>Spa</th>\n",
       "      <th>VRDeck</th>\n",
       "      <th>HomePlanet</th>\n",
       "      <th>CryoSleep</th>\n",
       "      <th>Cabin</th>\n",
       "      <th>Destination</th>\n",
       "      <th>VIP</th>\n",
       "    </tr>\n",
       "    <tr>\n",
       "      <th>PassengerId</th>\n",
       "      <th></th>\n",
       "      <th></th>\n",
       "      <th></th>\n",
       "      <th></th>\n",
       "      <th></th>\n",
       "      <th></th>\n",
       "      <th></th>\n",
       "      <th></th>\n",
       "      <th></th>\n",
       "      <th></th>\n",
       "      <th></th>\n",
       "    </tr>\n",
       "  </thead>\n",
       "  <tbody>\n",
       "    <tr>\n",
       "      <th>8244_01</th>\n",
       "      <td>3.332205</td>\n",
       "      <td>6.915723</td>\n",
       "      <td>0.000000</td>\n",
       "      <td>0.000000</td>\n",
       "      <td>2.302585</td>\n",
       "      <td>0.000000</td>\n",
       "      <td>-0.824843</td>\n",
       "      <td>-0.625417</td>\n",
       "      <td>5.247383</td>\n",
       "      <td>0.618748</td>\n",
       "      <td>-0.212406</td>\n",
       "    </tr>\n",
       "    <tr>\n",
       "      <th>8060_01</th>\n",
       "      <td>3.688879</td>\n",
       "      <td>7.222566</td>\n",
       "      <td>5.560682</td>\n",
       "      <td>6.867974</td>\n",
       "      <td>0.693147</td>\n",
       "      <td>3.401197</td>\n",
       "      <td>1.489205</td>\n",
       "      <td>-0.625417</td>\n",
       "      <td>-0.108330</td>\n",
       "      <td>0.618748</td>\n",
       "      <td>-0.212406</td>\n",
       "    </tr>\n",
       "    <tr>\n",
       "      <th>4311_01</th>\n",
       "      <td>3.135494</td>\n",
       "      <td>6.335054</td>\n",
       "      <td>6.257668</td>\n",
       "      <td>5.899897</td>\n",
       "      <td>0.000000</td>\n",
       "      <td>0.000000</td>\n",
       "      <td>-0.824843</td>\n",
       "      <td>-0.625417</td>\n",
       "      <td>5.247383</td>\n",
       "      <td>0.618748</td>\n",
       "      <td>-0.212406</td>\n",
       "    </tr>\n",
       "    <tr>\n",
       "      <th>8986_01</th>\n",
       "      <td>2.995732</td>\n",
       "      <td>0.000000</td>\n",
       "      <td>6.698268</td>\n",
       "      <td>3.091042</td>\n",
       "      <td>6.670766</td>\n",
       "      <td>9.437712</td>\n",
       "      <td>-0.824843</td>\n",
       "      <td>-0.625417</td>\n",
       "      <td>5.247383</td>\n",
       "      <td>0.618748</td>\n",
       "      <td>-0.212406</td>\n",
       "    </tr>\n",
       "    <tr>\n",
       "      <th>0808_01</th>\n",
       "      <td>3.465736</td>\n",
       "      <td>5.075174</td>\n",
       "      <td>4.709530</td>\n",
       "      <td>6.553933</td>\n",
       "      <td>0.000000</td>\n",
       "      <td>2.397895</td>\n",
       "      <td>-0.824843</td>\n",
       "      <td>-0.625417</td>\n",
       "      <td>5.247383</td>\n",
       "      <td>0.618748</td>\n",
       "      <td>-0.212406</td>\n",
       "    </tr>\n",
       "  </tbody>\n",
       "</table>\n",
       "</div>"
      ],
      "text/plain": [
       "                  Age  RoomService  FoodCourt  ShoppingMall       Spa  \\\n",
       "PassengerId                                                             \n",
       "8244_01      3.332205     6.915723   0.000000      0.000000  2.302585   \n",
       "8060_01      3.688879     7.222566   5.560682      6.867974  0.693147   \n",
       "4311_01      3.135494     6.335054   6.257668      5.899897  0.000000   \n",
       "8986_01      2.995732     0.000000   6.698268      3.091042  6.670766   \n",
       "0808_01      3.465736     5.075174   4.709530      6.553933  0.000000   \n",
       "\n",
       "               VRDeck  HomePlanet  CryoSleep     Cabin  Destination       VIP  \n",
       "PassengerId                                                                    \n",
       "8244_01      0.000000   -0.824843  -0.625417  5.247383     0.618748 -0.212406  \n",
       "8060_01      3.401197    1.489205  -0.625417 -0.108330     0.618748 -0.212406  \n",
       "4311_01      0.000000   -0.824843  -0.625417  5.247383     0.618748 -0.212406  \n",
       "8986_01      9.437712   -0.824843  -0.625417  5.247383     0.618748 -0.212406  \n",
       "0808_01      2.397895   -0.824843  -0.625417  5.247383     0.618748 -0.212406  "
      ]
     },
     "execution_count": 443,
     "metadata": {},
     "output_type": "execute_result"
    }
   ],
   "source": [
    "x_test.head()"
   ]
  },
  {
   "cell_type": "code",
   "execution_count": 276,
   "id": "7489d757-b452-4291-829e-0621bb543c9b",
   "metadata": {},
   "outputs": [],
   "source": [
    "x_test['probas'] = list(clf.predict_proba(x_test[num_cols+cat_cols])[:,1])"
   ]
  },
  {
   "cell_type": "code",
   "execution_count": 285,
   "id": "3c8fa8ac-de32-46a6-bf4a-8311db30aacf",
   "metadata": {},
   "outputs": [],
   "source": [
    "x_test['corte052'] = 1\n",
    "x_test.loc[x_test['probas'] < 0.512, 'corte052'] = 0"
   ]
  },
  {
   "cell_type": "code",
   "execution_count": 286,
   "id": "de8e055b-b346-44d2-b55d-ac51aca6ef19",
   "metadata": {},
   "outputs": [
    {
     "data": {
      "text/plain": [
       "array([[1016,  279],\n",
       "       [ 280, 1033]])"
      ]
     },
     "execution_count": 286,
     "metadata": {},
     "output_type": "execute_result"
    }
   ],
   "source": [
    "cfm(y_test, x_test['corte052'])"
   ]
  },
  {
   "cell_type": "code",
   "execution_count": 110,
   "id": "ebb42e32-74eb-4370-875a-1ecdbc1bdd04",
   "metadata": {},
   "outputs": [
    {
     "data": {
      "text/plain": [
       "23.83853769992384"
      ]
     },
     "execution_count": 110,
     "metadata": {},
     "output_type": "execute_result"
    }
   ],
   "source": [
    "313/1313 * 100"
   ]
  },
  {
   "cell_type": "code",
   "execution_count": 287,
   "id": "294abb4c-bc75-4a2f-a8c3-b4a379c605a9",
   "metadata": {},
   "outputs": [
    {
     "data": {
      "text/plain": [
       "<AxesSubplot:>"
      ]
     },
     "execution_count": 287,
     "metadata": {},
     "output_type": "execute_result"
    },
    {
     "data": {
      "image/png": "[encoded data removed]",
      "text/plain": [
       "<Figure size 1008x504 with 1 Axes>"
      ]
     },
     "metadata": {
      "needs_background": "light"
     },
     "output_type": "display_data"
    }
   ],
   "source": [
    "x_test['probas'].hist(bins=20, figsize=(14,7))"
   ]
  },
  {
   "cell_type": "code",
   "execution_count": null,
   "id": "5364f20d-8455-4e9b-9d69-5fa411433693",
   "metadata": {},
   "outputs": [],
   "source": []
  },
  {
   "cell_type": "code",
   "execution_count": 59,
   "id": "6e837c6f-5f16-4392-ae7c-50d380bf2deb",
   "metadata": {},
   "outputs": [
    {
     "name": "stdout",
     "output_type": "stream",
     "text": [
      "              precision    recall  f1-score   support\n",
      "\n",
      "           0       0.78      0.80      0.79      1295\n",
      "           1       0.80      0.77      0.78      1313\n",
      "\n",
      "    accuracy                           0.78      2608\n",
      "   macro avg       0.79      0.78      0.78      2608\n",
      "weighted avg       0.79      0.78      0.78      2608\n",
      "\n"
     ]
    }
   ],
   "source": [
    "print(classification_report(y_test, y_pred))"
   ]
  },
  {
   "cell_type": "markdown",
   "id": "725bf8bd-a3d4-476f-81de-f4a493276f4a",
   "metadata": {},
   "source": [
    "# Kaggle submission"
   ]
  },
  {
   "cell_type": "code",
   "execution_count": 60,
   "id": "3d1f25c6-7505-4036-91a2-446e5e5d73f7",
   "metadata": {},
   "outputs": [
    {
     "name": "stdout",
     "output_type": "stream",
     "text": [
      "First_nb.ipynb        sample_submission.csv train.csv\n",
      "LICENSE               test.csv\n",
      "README.md             test_sub.csv\n"
     ]
    }
   ],
   "source": [
    "!ls"
   ]
  },
  {
   "cell_type": "code",
   "execution_count": 61,
   "id": "4743f483-d85a-42f3-bab6-8cfaa93f0e8d",
   "metadata": {},
   "outputs": [
    {
     "name": "stdout",
     "output_type": "stream",
     "text": [
      "PassengerId,Transported\n",
      "0013_01,False\n",
      "0018_01,False\n",
      "0019_01,False\n",
      "0021_01,False\n",
      "0023_01,False\n",
      "0027_01,False\n",
      "0029_01,False\n",
      "0032_01,False\n",
      "0032_02,False\n",
      "cat: stdout: Broken pipe\n"
     ]
    }
   ],
   "source": [
    "!cat sample_submission.csv | head"
   ]
  },
  {
   "cell_type": "code",
   "execution_count": 62,
   "id": "8348eed6-72a5-4cab-af01-a53a5a151052",
   "metadata": {},
   "outputs": [],
   "source": [
    "test = pd.read_csv('test.csv')"
   ]
  },
  {
   "cell_type": "code",
   "execution_count": 63,
   "id": "d9233761-f5ca-4baa-a26d-9aa4f1f8f306",
   "metadata": {},
   "outputs": [],
   "source": [
    "for num in num_cols:\n",
    "    test.loc[ test[num].isnull() , num] = np.nanpercentile(test[num], 99.9)\n",
    "    test[num] = test[num].map(lambda x: np.log(1 + x))"
   ]
  },
  {
   "cell_type": "code",
   "execution_count": 64,
   "id": "61093d64-3e1e-4a8d-a02e-3134b85c4faa",
   "metadata": {},
   "outputs": [],
   "source": [
    "for cat in cat_cols:\n",
    "    test.loc[ (test[cat].isnull()) , cat] = cat+'_Nibiru'\n",
    "    test[cat] = test[cat].apply(lambda x : str(x))"
   ]
  },
  {
   "cell_type": "code",
   "execution_count": 65,
   "id": "d9bee33c-69d6-4802-a369-1417f82663ab",
   "metadata": {},
   "outputs": [],
   "source": [
    "test[cat_cols] = ordinal_enc.transform(test[cat_cols])"
   ]
  },
  {
   "cell_type": "code",
   "execution_count": 67,
   "id": "d4ed82ce-36d1-4167-90ce-ab2051e045cc",
   "metadata": {},
   "outputs": [],
   "source": [
    "test['probas'] = list(dt.predict_proba(test[num_cols+cat_cols])[:,1])"
   ]
  },
  {
   "cell_type": "code",
   "execution_count": 68,
   "id": "9b464a73-499d-4f4f-8773-48b902643831",
   "metadata": {},
   "outputs": [
    {
     "data": {
      "text/plain": [
       "<AxesSubplot:>"
      ]
     },
     "execution_count": 68,
     "metadata": {},
     "output_type": "execute_result"
    },
    {
     "data": {
      "image/png": "[encoded data removed]",
      "text/plain": [
       "<Figure size 432x288 with 1 Axes>"
      ]
     },
     "metadata": {
      "needs_background": "light"
     },
     "output_type": "display_data"
    }
   ],
   "source": [
    "test['probas'].hist()"
   ]
  },
  {
   "cell_type": "code",
   "execution_count": 69,
   "id": "b2a1b626-c504-4d87-8eaa-ae755546d272",
   "metadata": {},
   "outputs": [],
   "source": [
    "test['Transported'] = True\n",
    "test.loc[test['probas']<0.512, 'Transported'] = False"
   ]
  },
  {
   "cell_type": "code",
   "execution_count": 70,
   "id": "8a3930f2-ec50-435f-8215-360699022e80",
   "metadata": {},
   "outputs": [],
   "source": [
    "test[['PassengerId', 'Transported']].to_csv('test_sub.csv', index=False)"
   ]
  },
  {
   "cell_type": "code",
   "execution_count": 71,
   "id": "ec9b1d83-a694-4ac5-a227-b6cc3c5024e4",
   "metadata": {},
   "outputs": [
    {
     "name": "stdout",
     "output_type": "stream",
     "text": [
      "PassengerId,Transported\n",
      "0013_01,True\n",
      "0018_01,False\n",
      "0019_01,True\n",
      "0021_01,True\n",
      "0023_01,False\n",
      "0027_01,True\n",
      "0029_01,True\n",
      "0032_01,True\n",
      "0032_02,True\n"
     ]
    }
   ],
   "source": [
    "!cat test_sub.csv | head"
   ]
  }
 ],
 "metadata": {
  "kernelspec": {
   "display_name": "Python 3 (ipykernel)",
   "language": "python",
   "name": "python3"
  },
  "language_info": {
   "codemirror_mode": {
    "name": "ipython",
    "version": 3
   },
   "file_extension": ".py",
   "mimetype": "text/x-python",
   "name": "python",
   "nbconvert_exporter": "python",
   "pygments_lexer": "ipython3",
   "version": "3.7.11"
  }
 },
 "nbformat": 4,
 "nbformat_minor": 5
}
